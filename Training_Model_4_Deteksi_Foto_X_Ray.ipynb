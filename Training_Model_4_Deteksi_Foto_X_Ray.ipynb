{
  "nbformat": 4,
  "nbformat_minor": 0,
  "metadata": {
    "colab": {
      "provenance": [],
      "gpuType": "T4",
      "authorship_tag": "ABX9TyPMjx3Q/pKX3aBZnNco/hfn",
      "include_colab_link": true
    },
    "kernelspec": {
      "name": "python3",
      "display_name": "Python 3"
    },
    "language_info": {
      "name": "python"
    },
    "accelerator": "GPU"
  },
  "cells": [
    {
      "cell_type": "markdown",
      "metadata": {
        "id": "view-in-github",
        "colab_type": "text"
      },
      "source": [
        "<a href=\"https://colab.research.google.com/github/elangbijak4/Riset-AI-Medis/blob/main/Training_Model_4_Deteksi_Foto_X_Ray.ipynb\" target=\"_parent\"><img src=\"https://colab.research.google.com/assets/colab-badge.svg\" alt=\"Open In Colab\"/></a>"
      ]
    },
    {
      "cell_type": "code",
      "execution_count": 1,
      "metadata": {
        "id": "4zRWeuLcC02U"
      },
      "outputs": [],
      "source": [
        "!pip install -q kaggle pydicom tqdm imgaug\n",
        "\n",
        "from google.colab import drive\n",
        "drive.mount('/content/drive')\n",
        "\n",
        "# Letakkan kaggle.json di ~/.kaggle\n",
        "!mkdir -p ~/.kaggle\n",
        "!cp /content/drive/MyDrive/kaggle.json ~/.kaggle/\n",
        "!chmod 600 ~/.kaggle/kaggle.json\n",
        "\n",
        "!kaggle competitions download -c rsna-pneumonia-detection-challenge\n",
        "!unzip -q stage_1_train_images.zip stage_1_train_labels.csv.zip"
      ]
    },
    {
      "cell_type": "code",
      "source": [
        "!pip install -q deeplake\n",
        "import deeplake\n",
        "ds = deeplake.load('hub://activeloop/nih-chest-xray-train')"
      ],
      "metadata": {
        "id": "ncVtLAvcDNI-"
      },
      "execution_count": 2,
      "outputs": []
    },
    {
      "cell_type": "code",
      "source": [
        "import pandas as pd, pydicom, cv2\n",
        "from imgaug import augmenters as iaa\n",
        "import matplotlib.pyplot as plt\n",
        "\n",
        "df = pd.read_csv('stage_1_train_labels.csv')\n",
        "dfp = df[df['Target']==1]\n",
        "\n",
        "def load_aug(fp):\n",
        "    img = pydicom.dcmread(fp).pixel_array\n",
        "    img = cv2.resize(img, (512,512))\n",
        "    img = iaa.GaussianBlur((0,3.0))(image=img)\n",
        "    return img\n",
        "\n",
        "for _, r in dfp.sample(3).iterrows():\n",
        "    img = load_aug(f\"stage_1_train_images/{r.patientId}.dcm\")\n",
        "    x,y,w,h = [int(r[c]) for c in ['x','y','width','height']]\n",
        "    cv2.rectangle(img, (x,y), (x+w, y+h), (255,0,0), 2)\n",
        "    plt.imshow(img, cmap='gray'); plt.show()"
      ],
      "metadata": {
        "id": "CY9e7IooDZH2"
      },
      "execution_count": 3,
      "outputs": []
    },
    {
      "cell_type": "code",
      "source": [
        "import os\n",
        "import pydicom\n",
        "import cv2\n",
        "\n",
        "os.makedirs(\"rsna_png/train\", exist_ok=True)\n",
        "for pid in dfp.patientId.unique():\n",
        "    d = pydicom.dcmread(f\"stage_1_train_images/{pid}.dcm\").pixel_array\n",
        "    cv2.imwrite(f\"rsna_png/train/{pid}.png\", d)"
      ],
      "metadata": {
        "id": "n3YM7iEZN56Q"
      },
      "execution_count": null,
      "outputs": []
    },
    {
      "cell_type": "code",
      "source": [
        "!git clone https://github.com/limingwu8/Pneumonia-Detection\n",
        "%cd Pneumonia-Detection\n",
        "pip install -q -r requirements.txt\n",
        "python train.py --dataset ../rsna_png/train --annotations ../stage_1_train_labels.csv"
      ],
      "metadata": {
        "id": "xuZMyKcNN75U"
      },
      "execution_count": null,
      "outputs": []
    },
    {
      "cell_type": "markdown",
      "source": [
        "1.   Download RSNA via Kaggle API\n",
        "2.   Visualisasi pipeline: load DICOM, augment blur, gambarkan bounding box\n",
        "1.   Konversi ke PNG untuk siapkan folder input\n",
        "2.   Fine-tune Faster‑R‑CNN dengan bounding box detection, evaluasi mAP"
      ],
      "metadata": {
        "id": "HA82BgnQOHRw"
      }
    }
  ]
}